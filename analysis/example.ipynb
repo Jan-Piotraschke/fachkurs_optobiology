{
 "cells": [
  {
   "cell_type": "markdown",
   "metadata": {},
   "source": [
    "## Example for a Notebook \n"
   ]
  },
  {
   "cell_type": "code",
   "execution_count": 1,
   "metadata": {},
   "outputs": [],
   "source": [
    "import numpy as np\n",
    "import pandas as pd\n",
    "import matplotlib.pyplot as plt\n",
    "%matplotlib inline"
   ]
  },
  {
   "cell_type": "code",
   "execution_count": 2,
   "metadata": {
    "id": "hkTwrjYDJnrN"
   },
   "outputs": [],
   "source": [
    "file_csv: str = 'data/tracks_EB3_GFR_5JUL.csv'\n",
    "data = pd.read_csv(file_csv, sep=',')\n",
    "data = data.drop(columns=[\"LABEL\"])\n",
    "data_name = pd.Series(data.T[0].values,index=data.T.index).to_dict()\n",
    "data_units = pd.Series(data.T[2].values,index=data.T.index).to_dict()\n",
    "data = data.drop([0, 1, 2])\n",
    "data = data.astype('float64')\n",
    "time_start = data.TRACK_START\n",
    "data = data.loc[(data[\"TRACK_START\"]>0.0) &\n",
    "                (data[\"TRACK_START\"]<time_start.max()-1) &\n",
    "                (data[\"TRACK_STOP\"]<time_start.max()-1)\n",
    "               ]\n",
    "\n"
   ]
  },
  {
   "cell_type": "code",
   "execution_count": 3,
   "metadata": {},
   "outputs": [
    {
     "data": {
      "text/html": [
       "<div>\n",
       "<style scoped>\n",
       "    .dataframe tbody tr th:only-of-type {\n",
       "        vertical-align: middle;\n",
       "    }\n",
       "\n",
       "    .dataframe tbody tr th {\n",
       "        vertical-align: top;\n",
       "    }\n",
       "\n",
       "    .dataframe thead th {\n",
       "        text-align: right;\n",
       "    }\n",
       "</style>\n",
       "<table border=\"1\" class=\"dataframe\">\n",
       "  <thead>\n",
       "    <tr style=\"text-align: right;\">\n",
       "      <th></th>\n",
       "      <th>TRACK_INDEX</th>\n",
       "      <th>TRACK_ID</th>\n",
       "      <th>NUMBER_SPOTS</th>\n",
       "      <th>NUMBER_GAPS</th>\n",
       "      <th>NUMBER_SPLITS</th>\n",
       "      <th>NUMBER_MERGES</th>\n",
       "      <th>NUMBER_COMPLEX</th>\n",
       "      <th>LONGEST_GAP</th>\n",
       "      <th>TRACK_DURATION</th>\n",
       "      <th>TRACK_START</th>\n",
       "      <th>...</th>\n",
       "      <th>TRACK_MIN_SPEED</th>\n",
       "      <th>TRACK_MEDIAN_SPEED</th>\n",
       "      <th>TRACK_STD_SPEED</th>\n",
       "      <th>TRACK_MEAN_QUALITY</th>\n",
       "      <th>TOTAL_DISTANCE_TRAVELED</th>\n",
       "      <th>MAX_DISTANCE_TRAVELED</th>\n",
       "      <th>CONFINEMENT_RATIO</th>\n",
       "      <th>MEAN_STRAIGHT_LINE_SPEED</th>\n",
       "      <th>LINEARITY_OF_FORWARD_PROGRESSION</th>\n",
       "      <th>MEAN_DIRECTIONAL_CHANGE_RATE</th>\n",
       "    </tr>\n",
       "  </thead>\n",
       "  <tbody>\n",
       "    <tr>\n",
       "      <th>3</th>\n",
       "      <td>1.0</td>\n",
       "      <td>1.0</td>\n",
       "      <td>46.0</td>\n",
       "      <td>0.0</td>\n",
       "      <td>0.0</td>\n",
       "      <td>0.0</td>\n",
       "      <td>0.0</td>\n",
       "      <td>0.0</td>\n",
       "      <td>22.5</td>\n",
       "      <td>1.5</td>\n",
       "      <td>...</td>\n",
       "      <td>0.013345</td>\n",
       "      <td>0.068380</td>\n",
       "      <td>0.058216</td>\n",
       "      <td>3.635184</td>\n",
       "      <td>1.813940</td>\n",
       "      <td>0.527888</td>\n",
       "      <td>0.144837</td>\n",
       "      <td>0.011677</td>\n",
       "      <td>0.144837</td>\n",
       "      <td>2.592712</td>\n",
       "    </tr>\n",
       "    <tr>\n",
       "      <th>11</th>\n",
       "      <td>47.0</td>\n",
       "      <td>47.0</td>\n",
       "      <td>26.0</td>\n",
       "      <td>1.0</td>\n",
       "      <td>0.0</td>\n",
       "      <td>0.0</td>\n",
       "      <td>0.0</td>\n",
       "      <td>1.0</td>\n",
       "      <td>13.0</td>\n",
       "      <td>1.5</td>\n",
       "      <td>...</td>\n",
       "      <td>0.037074</td>\n",
       "      <td>0.258083</td>\n",
       "      <td>0.306518</td>\n",
       "      <td>3.559510</td>\n",
       "      <td>4.479456</td>\n",
       "      <td>2.928417</td>\n",
       "      <td>0.653744</td>\n",
       "      <td>0.225263</td>\n",
       "      <td>0.708599</td>\n",
       "      <td>1.409295</td>\n",
       "    </tr>\n",
       "  </tbody>\n",
       "</table>\n",
       "<p>2 rows × 27 columns</p>\n",
       "</div>"
      ],
      "text/plain": [
       "    TRACK_INDEX  TRACK_ID  NUMBER_SPOTS  NUMBER_GAPS  NUMBER_SPLITS  \\\n",
       "3           1.0       1.0          46.0          0.0            0.0   \n",
       "11         47.0      47.0          26.0          1.0            0.0   \n",
       "\n",
       "    NUMBER_MERGES  NUMBER_COMPLEX  LONGEST_GAP  TRACK_DURATION  TRACK_START  \\\n",
       "3             0.0             0.0          0.0            22.5          1.5   \n",
       "11            0.0             0.0          1.0            13.0          1.5   \n",
       "\n",
       "    ...  TRACK_MIN_SPEED  TRACK_MEDIAN_SPEED  TRACK_STD_SPEED  \\\n",
       "3   ...         0.013345            0.068380         0.058216   \n",
       "11  ...         0.037074            0.258083         0.306518   \n",
       "\n",
       "    TRACK_MEAN_QUALITY  TOTAL_DISTANCE_TRAVELED  MAX_DISTANCE_TRAVELED  \\\n",
       "3             3.635184                 1.813940               0.527888   \n",
       "11            3.559510                 4.479456               2.928417   \n",
       "\n",
       "    CONFINEMENT_RATIO  MEAN_STRAIGHT_LINE_SPEED  \\\n",
       "3            0.144837                  0.011677   \n",
       "11           0.653744                  0.225263   \n",
       "\n",
       "    LINEARITY_OF_FORWARD_PROGRESSION  MEAN_DIRECTIONAL_CHANGE_RATE  \n",
       "3                           0.144837                      2.592712  \n",
       "11                          0.708599                      1.409295  \n",
       "\n",
       "[2 rows x 27 columns]"
      ]
     },
     "execution_count": 3,
     "metadata": {},
     "output_type": "execute_result"
    }
   ],
   "source": [
    "#data[\"TOTAL_DISTANCE_TRAVELED\"]  # Länge des MT\n",
    "#data[\"TRACK_MEAN_SPEED\"]  # Mittelwert der Geschwindigkeit des MT\n",
    "\n",
    "\n",
    "\n",
    "data.head(2)\n",
    "#data\n",
    "#data[\"TOTAL_DISTANCE_TRAVELED\"]"
   ]
  },
  {
   "cell_type": "code",
   "execution_count": 4,
   "metadata": {},
   "outputs": [
    {
     "data": {
      "image/png": "[encoded data removed]",
      "text/plain": [
       "<Figure size 576x288 with 1 Axes>"
      ]
     },
     "metadata": {
      "needs_background": "light"
     },
     "output_type": "display_data"
    }
   ],
   "source": [
    "fig, ax = plt.subplots(figsize=(8, 4)) #, ncols=2)\n",
    "# Hide the right and top spines\n",
    "ax.yaxis.grid(alpha=0.4)\n",
    "#plt.yscale('log')\n",
    "\n",
    "ax.spines['right'].set_visible(False)\n",
    "ax.spines['top'].set_visible(False)\n",
    "#ax.plot(data[\"TOTAL_DISTANCE_TRAVELED\"],data[\"TRACK_MEAN_SPEED\"])\n",
    "\n",
    "ax.scatter(y=data[\"TOTAL_DISTANCE_TRAVELED\"], x=data[\"TRACK_MEAN_SPEED\"])#, yerr=data_wet_5A.Gbg_std, color='blue')  # the wet data \n",
    "\n",
    "ax.set_ylabel('Length of comet movement (µm)')\n",
    "ax.set_xlabel('Mean speed of comet (µm/sec)')\n",
    "\n",
    "#plt.legend(loc=(1.1,0.5), frameon=False)\n",
    "plt.savefig('reports/distance_vs_meanspeed.png',dpi=800, bbox_inches='tight')\n",
    "plt.show()"
   ]
  },
  {
   "cell_type": "markdown",
   "metadata": {},
   "source": [
    "# Estimated probability density"
   ]
  },
  {
   "cell_type": "code",
   "execution_count": 5,
   "metadata": {},
   "outputs": [
    {
     "ename": "SyntaxError",
     "evalue": "invalid syntax (<ipython-input-5-dfae089a7fde>, line 48)",
     "output_type": "error",
     "traceback": [
      "\u001b[0;36m  File \u001b[0;32m\"<ipython-input-5-dfae089a7fde>\"\u001b[0;36m, line \u001b[0;32m48\u001b[0m\n\u001b[0;31m    ax2.\u001b[0m\n\u001b[0m        ^\u001b[0m\n\u001b[0;31mSyntaxError\u001b[0m\u001b[0;31m:\u001b[0m invalid syntax\n"
     ]
    }
   ],
   "source": [
    "fig, (ax1, ax2) = plt.subplots(figsize=(8, 4), ncols=2)\n",
    "ax1.yaxis.grid(alpha=0.4)\n",
    "ax2.yaxis.grid(alpha=0.4)\n",
    "\n",
    "\n",
    "ax1.spines['right'].set_visible(False)\n",
    "ax1.spines['top'].set_visible(False)\n",
    "ax1.set_xticks([])\n",
    "\n",
    "ax2.spines['right'].set_visible(False)\n",
    "ax2.spines['top'].set_visible(False)\n",
    "ax2.set_xticks([])\n",
    "\n",
    "\n",
    "ax1.set_ylabel('Length of MT (µm)')\n",
    "ax2.set_ylabel('Mean speed of MT (µm/sec)')\n",
    "\n",
    "parts1 = ax1.violinplot(data[\"TOTAL_DISTANCE_TRAVELED\"], widths=2, showmeans=False, showmedians=False, showextrema=False)\n",
    "parts2 = ax2.violinplot(data[\"TRACK_MEAN_SPEED\"], widths=2, showmeans=False, showmedians=False, showextrema=False)\n",
    "\n",
    "\n",
    "for pc in parts2['bodies']:\n",
    "    pc.set_facecolor('#D43F3A')\n",
    "    pc.set_edgecolor('black')\n",
    "    pc.set_alpha(0.5)\n",
    "    \n",
    "for pc in parts1['bodies']:\n",
    "    #pc.set_facecolor('#D43F3A')\n",
    "    pc.set_edgecolor('black')\n",
    "    pc.set_alpha(0.5)    \n",
    "\n",
    "\n",
    "quartile11, medians1, quartile13 = np.percentile(data[\"TOTAL_DISTANCE_TRAVELED\"], [25, 50, 75])\n",
    "\n",
    "ax1.scatter(1, data[\"TOTAL_DISTANCE_TRAVELED\"].mean(), marker='o', color='white', s=30, zorder=3)\n",
    "ax1.vlines(1, quartile11, quartile13, color='k', linestyle='-', lw=5)\n",
    "ax1.vlines(1, data[\"TOTAL_DISTANCE_TRAVELED\"].min(), data[\"TOTAL_DISTANCE_TRAVELED\"].max(), color='k', linestyle='-', lw=1)  # TODO\n",
    "\n",
    "quartile1, medians, quartile3 = np.percentile(data[\"TRACK_MEAN_SPEED\"], [25, 50, 75])\n",
    "\n",
    "ax2.scatter(1, data[\"TRACK_MEAN_SPEED\"].mean(), marker='o', color='white', s=30, zorder=3)\n",
    "ax2.vlines(1, quartile1, quartile3, color='k', linestyle='-', lw=5)\n",
    "ax2.vlines(1, data[\"TRACK_MEAN_SPEED\"].min(), data[\"TRACK_MEAN_SPEED\"].max(), color='k', linestyle='-', lw=1)  # TODO\n",
    " \n",
    "#plt.legend([parts1['bodies'][0],parts2['bodies'][0]], ['meassured data', 'meassured data (x10)'], loc=(1.1,0.5), frameon=False)\n",
    "\n",
    "plt.savefig('reports/prob_density.png',dpi=800, bbox_inches='tight')\n"
   ]
  },
  {
   "cell_type": "code",
   "execution_count": null,
   "metadata": {},
   "outputs": [],
   "source": [
    "data.to_excel(\"data/cleaned_data.xlsx\")\n",
    "data.to_csv(\"data/cleaned_data.csv\", sep=';', index=False)\n",
    "pd.read_csv(\"data/cleaned_data.csv\", sep=';')"
   ]
  }
 ],
 "metadata": {
  "colab": {
   "authorship_tag": "ABX9TyOxgt/VIFrNWO/Yj6SJPxOe",
   "collapsed_sections": [],
   "name": "Temp_plot_pyren.ipynb",
   "provenance": []
  },
  "kernelspec": {
   "display_name": "Python 3",
   "language": "python",
   "name": "python3"
  },
  "language_info": {
   "codemirror_mode": {
    "name": "ipython",
    "version": 3
   },
   "file_extension": ".py",
   "mimetype": "text/x-python",
   "name": "python",
   "nbconvert_exporter": "python",
   "pygments_lexer": "ipython3",
   "version": "3.9.9"
  }
 },
 "nbformat": 4,
 "nbformat_minor": 1
}
