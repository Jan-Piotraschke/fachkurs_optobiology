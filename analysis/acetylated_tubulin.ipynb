{
 "cells": [
  {
   "cell_type": "code",
   "execution_count": 2,
   "id": "edfc5771",
   "metadata": {},
   "outputs": [],
   "source": [
    "import numpy as np\n",
    "import pandas as pd\n",
    "import matplotlib.pyplot as plt\n",
    "%matplotlib inline"
   ]
  },
  {
   "cell_type": "code",
   "execution_count": 6,
   "id": "3b209c02",
   "metadata": {},
   "outputs": [],
   "source": [
    "file_d_2h: str = 'data/DMSO2h/tubulin_results.csv'\n",
    "file_d_30m: str = 'data/DMSO30min/tubulin_results.csv'\n",
    "file_t_2h: str = 'data/Taxol2h/tubulin_results.csv'\n",
    "file_t_30m: str = 'data/Taxol30min/tubulin_results.csv'\n",
    "\n",
    "data_d_2h = pd.read_csv(file_d_2h, sep=',')\n",
    "data_d_30m = pd.read_csv(file_d_30m, sep=',')\n",
    "data_t_2h = pd.read_csv(file_t_2h, sep=',')\n",
    "data_t_30m = pd.read_csv(file_t_30m, sep=',')"
   ]
  },
  {
   "cell_type": "code",
   "execution_count": 29,
   "id": "6d84cbbc",
   "metadata": {},
   "outputs": [
    {
     "name": "stdout",
     "output_type": "stream",
     "text": [
      "5735.973083333333\n",
      "8650.039571428571\n",
      "2607.142\n",
      "5270.625\n"
     ]
    },
    {
     "data": {
      "image/png": "[encoded data removed]",
      "text/plain": [
       "<Figure size 576x288 with 1 Axes>"
      ]
     },
     "metadata": {
      "needs_background": "light"
     },
     "output_type": "display_data"
    }
   ],
   "source": [
    "print(data_d_30m.Mean.mean())\n",
    "print(data_t_30m.Mean.mean())\n",
    "\n",
    "\n",
    "print(data_d_2h.Mean.mean())\n",
    "print(data_t_2h.Mean.mean())\n",
    "\n",
    "fig, ax = plt.subplots(figsize=(8, 4)) #, ncols=2)\n",
    "# Hide the right and top spines\n",
    "ax.yaxis.grid(alpha=0.4)\n",
    "#plt.yscale('log')\n",
    "width = 0.35  # the width of the bars\n",
    "\n",
    "ax.spines['right'].set_visible(False)\n",
    "ax.spines['top'].set_visible(False)\n",
    "#ax.plot(data[\"TOTAL_DISTANCE_TRAVELED\"],data[\"TRACK_MEAN_SPEED\"])\n",
    "\n",
    "# 30min\n",
    "x=np.arange(2)\n",
    "\n",
    "ax.bar(x - width/2, [data_d_30m.Mean.mean(), data_d_2h.Mean.mean()], width, label='DMSO')\n",
    "ax.bar(x + width/2, [data_t_30m.Mean.mean(), data_t_2h.Mean.mean()], width, label='Taxol')\n",
    "labels=['30min', '2h']\n",
    "plt.xticks(x, labels )\n",
    "\n",
    "\n",
    "ax.set_ylabel('mean fluorescence intensitivity ')\n",
    "ax.set_xlabel('treatment time')\n",
    "plt.legend(loc=(1.1,0.5), frameon=False)\n",
    "plt.savefig('reports/acetylated_tubulin.png',dpi=800, bbox_inches='tight')\n",
    "plt.show()"
   ]
  }
 ],
 "metadata": {
  "kernelspec": {
   "display_name": "Python 3",
   "language": "python",
   "name": "python3"
  },
  "language_info": {
   "codemirror_mode": {
    "name": "ipython",
    "version": 3
   },
   "file_extension": ".py",
   "mimetype": "text/x-python",
   "name": "python",
   "nbconvert_exporter": "python",
   "pygments_lexer": "ipython3",
   "version": "3.9.9"
  }
 },
 "nbformat": 4,
 "nbformat_minor": 5
}
